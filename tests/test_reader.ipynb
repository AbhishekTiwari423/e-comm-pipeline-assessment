{
 "cells": [
  {
   "cell_type": "code",
   "execution_count": 0,
   "metadata": {
    "application/vnd.databricks.v1+cell": {
     "cellMetadata": {
      "byteLimit": 2048000,
      "rowLimit": 10000
     },
     "inputWidgets": {},
     "nuid": "0670bc1d-4dca-4b3d-9474-bf56532fad73",
     "showTitle": false,
     "tableResultSettingsMap": {},
     "title": ""
    }
   },
   "outputs": [],
   "source": [
    "%run ../jobs/reader"
   ]
  },
  {
   "cell_type": "code",
   "execution_count": 0,
   "metadata": {
    "application/vnd.databricks.v1+cell": {
     "cellMetadata": {
      "byteLimit": 2048000,
      "rowLimit": 10000
     },
     "inputWidgets": {},
     "nuid": "e55fd87b-679f-4373-afce-fd0269c5c31f",
     "showTitle": true,
     "tableResultSettingsMap": {},
     "title": "Newly enhanced code using TDD"
    }
   },
   "outputs": [
    {
     "output_type": "stream",
     "name": "stderr",
     "output_type": "stream",
     "text": [
      "...\n----------------------------------------------------------------------\nRan 3 tests in 2.600s\n\nOK\n"
     ]
    }
   ],
   "source": [
    "import unittest\n",
    "from pyspark.sql import SparkSession\n",
    "\n",
    "class TestReader(unittest.TestCase):\n",
    "    @classmethod\n",
    "    def setUpClass(cls):\n",
    "        cls.spark = SparkSession.builder.appName(\"test-reader\").getOrCreate()\n",
    "        cls.reader = Reader(cls.spark)\n",
    "    \n",
    "    def test_read_csv(self):\n",
    "      csv_data = \"dbfs:/FileStore/shared_uploads/abhi687303@gmail.com/tests/mocked_product.csv\"\n",
    "      header=True\n",
    "      df = self.reader.read_csv(csv_data,header)\n",
    "      self.assertEqual(df.count(), 10)\n",
    "    \n",
    "    def test_read_excel(self):\n",
    "      excel_data = \"dbfs:/FileStore/shared_uploads/abhi687303@gmail.com/tests/customer_test.xlsx\"\n",
    "      header=True\n",
    "      df = self.reader.read_excel(excel_data,header)\n",
    "      self.assertEqual(df.count(), 2)\n",
    "\n",
    "    def test_read_json(self):\n",
    "      json_data = \"dbfs:/FileStore/shared_uploads/abhi687303@gmail.com/tests/mocked_order-1.json\"\n",
    "      multiLine = True\n",
    "      df = self.reader.read_json(json_data,multiLine)\n",
    "      self.assertEqual(df.count(), 10)\n",
    "\n",
    "if __name__ == \"__main__\":\n",
    "    unittest.main(argv=['first-arg-is-ignored'], exit=False)\n"
   ]
  },
  {
   "cell_type": "code",
   "execution_count": 0,
   "metadata": {
    "application/vnd.databricks.v1+cell": {
     "cellMetadata": {
      "byteLimit": 2048000,
      "rowLimit": 10000
     },
     "inputWidgets": {},
     "nuid": "1ffd50aa-1129-4787-ba2b-17ad26eb706a",
     "showTitle": false,
     "tableResultSettingsMap": {},
     "title": ""
    }
   },
   "outputs": [],
   "source": []
  }
 ],
 "metadata": {
  "application/vnd.databricks.v1+notebook": {
   "computePreferences": null,
   "dashboards": [],
   "environmentMetadata": {
    "base_environment": "",
    "environment_version": "1"
   },
   "inputWidgetPreferences": null,
   "language": "python",
   "notebookMetadata": {
    "pythonIndentUnit": 2
   },
   "notebookName": "test_reader",
   "widgets": {}
  }
 },
 "nbformat": 4,
 "nbformat_minor": 0
}